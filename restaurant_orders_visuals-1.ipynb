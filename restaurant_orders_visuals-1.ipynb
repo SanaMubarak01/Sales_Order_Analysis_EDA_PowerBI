{
 "cells": [
  {
   "cell_type": "code",
   "execution_count": 1,
   "id": "efe362fa",
   "metadata": {},
   "outputs": [],
   "source": [
    "import pymysql\n",
    "import pandas as pd\n",
    "import matplotlib.pyplot as plt\n",
    "from dotenv import load_dotenv\n",
    "load_dotenv('restaurant.env')  # Load environment variables from .env\n",
    "\n",
    "import os\n",
    "\n",
    "# Connect to the MySQL database using PyMySQL\n",
    "conn = pymysql.connect(\n",
    "    host='localhost',\n",
    "    user = os.getenv('MY_USERNAME'),\n",
    "    password = os.getenv('MY_PASSWORD'),\n",
    "    database='restaurant_db'\n",
    "    \n",
    "\n",
    "\n",
    ")\n",
    "import os\n",
    "\n",
    "\n",
    "cur = conn.cursor()"
   ]
  },
  {
   "cell_type": "markdown",
   "id": "19421745",
   "metadata": {},
   "source": [
    "# Total Number of Orders for First Quarter of the year 2023 = 5343\n"
   ]
  },
  {
   "cell_type": "code",
   "execution_count": 2,
   "id": "bd7334bf",
   "metadata": {},
   "outputs": [
    {
     "data": {
      "text/plain": [
       "5343"
      ]
     },
     "execution_count": 2,
     "metadata": {},
     "output_type": "execute_result"
    }
   ],
   "source": [
    "query=\"\"\"Select count(distinct order_id) as Total_Orders from order_details where item_id is not NULL\"\"\"\n",
    "cur.execute(query)\n",
    "data=cur.fetchall()\n",
    "data[0][0]"
   ]
  },
  {
   "cell_type": "markdown",
   "id": "0f15afe8",
   "metadata": {},
   "source": [
    "Monday is the first working day of week which is generating most of the sales, then Sunday and Friday respectively."
   ]
  },
  {
   "cell_type": "markdown",
   "id": "6b590400",
   "metadata": {},
   "source": [
    "## Top 5 Selling Items with respect to orders"
   ]
  },
  {
   "cell_type": "markdown",
   "id": "baa254f8",
   "metadata": {},
   "source": [
    "## Total No. Of Categories"
   ]
  },
  {
   "cell_type": "code",
   "execution_count": 3,
   "id": "6df85d70",
   "metadata": {},
   "outputs": [
    {
     "data": {
      "text/plain": [
       "4"
      ]
     },
     "execution_count": 3,
     "metadata": {},
     "output_type": "execute_result"
    }
   ],
   "source": [
    "query=\"\"\"select count(distinct category) from menu_items\"\"\"\n",
    "\n",
    "cur.execute(query)\n",
    "data=cur.fetchall()\n",
    "data[0][0]"
   ]
  },
  {
   "cell_type": "markdown",
   "id": "f98e67a1",
   "metadata": {},
   "source": [
    "## Total No. Of Items"
   ]
  },
  {
   "cell_type": "code",
   "execution_count": 4,
   "id": "e426183c",
   "metadata": {},
   "outputs": [
    {
     "data": {
      "text/plain": [
       "32"
      ]
     },
     "execution_count": 4,
     "metadata": {},
     "output_type": "execute_result"
    }
   ],
   "source": [
    "query= \"\"\"select count(distinct item_id) as unique_items from order_details where item_id is not NULL\"\"\"\n",
    "\n",
    "cur.execute(query)\n",
    "data=cur.fetchall()\n",
    "data[0][0]"
   ]
  },
  {
   "cell_type": "markdown",
   "id": "331d8545",
   "metadata": {},
   "source": [
    "## Average Orders Per Month"
   ]
  },
  {
   "cell_type": "code",
   "execution_count": 5,
   "id": "e1293c51",
   "metadata": {},
   "outputs": [
    {
     "data": {
      "text/plain": [
       "Decimal('1781')"
      ]
     },
     "execution_count": 5,
     "metadata": {},
     "output_type": "execute_result"
    }
   ],
   "source": [
    "query=\"\"\"select round(count(distinct order_id)/3,0) as average_order_per_month\n",
    " from order_details where item_id is not NULL\"\"\"\n",
    "\n",
    "cur.execute(query)\n",
    "data=cur.fetchall()\n",
    "data[0][0]"
   ]
  },
  {
   "cell_type": "markdown",
   "id": "d92ff99c",
   "metadata": {},
   "source": [
    "## Average Price Per Item"
   ]
  },
  {
   "cell_type": "code",
   "execution_count": 6,
   "id": "3bb5119a",
   "metadata": {},
   "outputs": [
    {
     "data": {
      "text/plain": [
       "Decimal('13.29')"
      ]
     },
     "execution_count": 6,
     "metadata": {},
     "output_type": "execute_result"
    }
   ],
   "source": [
    "query=\"\"\"select round(avg(price),2) as average_price from menu_items\"\"\"\n",
    "\n",
    "cur.execute(query)\n",
    "data=cur.fetchall()\n",
    "data[0][0]"
   ]
  },
  {
   "cell_type": "markdown",
   "id": "8d850b14",
   "metadata": {},
   "source": [
    "## Total Number of Orders Per Month"
   ]
  },
  {
   "cell_type": "code",
   "execution_count": 7,
   "id": "a1f53c36",
   "metadata": {
    "scrolled": true
   },
   "outputs": [
    {
     "data": {
      "image/png": "[encoded data removed]",
      "text/plain": [
       "<Figure size 640x480 with 1 Axes>"
      ]
     },
     "metadata": {},
     "output_type": "display_data"
    }
   ],
   "source": [
    "query=\"\"\" select monthname(order_date) as months, count(distinct order_id) as orders\n",
    " from order_details\n",
    " group by months\n",
    " order by Orders desc\"\"\"\n",
    "\n",
    "cur.execute(query)\n",
    "data=cur.fetchall()\n",
    "df=pd.DataFrame(data,columns=['Month','Orders'])\n",
    "ax=df[['Month','Orders']].plot(kind='bar',x='Month',y='Orders')\n",
    "ax.bar_label(ax.containers[0])\n",
    "plt.xticks(rotation=60)\n",
    "plt.show()"
   ]
  },
  {
   "cell_type": "markdown",
   "id": "3356edfe",
   "metadata": {},
   "source": [
    "## No. of Orders Per Day"
   ]
  },
  {
   "cell_type": "code",
   "execution_count": 8,
   "id": "187e4b74",
   "metadata": {
    "scrolled": true
   },
   "outputs": [
    {
     "name": "stdout",
     "output_type": "stream",
     "text": [
      "   Orders       Days\n",
      "0     881     Monday\n",
      "1     792     Sunday\n",
      "2     784     Friday\n",
      "3     759    Tuesday\n",
      "4     739   Thursday\n",
      "5     708   Saturday\n",
      "6     680  Wednesday\n"
     ]
    },
    {
     "data": {
      "image/png": "[encoded data removed]",
      "text/plain": [
       "<Figure size 500x300 with 1 Axes>"
      ]
     },
     "metadata": {},
     "output_type": "display_data"
    }
   ],
   "source": [
    "import matplotlib.pyplot as plt\n",
    "import seaborn as sns\n",
    "\n",
    "query=\"\"\"select count(distinct order_id) as total_orders, dayname(order_date) as Days\n",
    "from order_details\n",
    "where item_id is not NULL\n",
    "group by Days\n",
    "order by total_orders desc\"\"\"\n",
    "cur.execute(query)\n",
    "data=cur.fetchall()\n",
    "# data\n",
    "plt.figure(figsize=(5,3))\n",
    "df=pd.DataFrame(data,columns=['Orders','Days'])\n",
    "print(df)\n",
    "ax=sns.barplot(data=df,x='Days',y='Orders')\n",
    "plt.title('No. of Orders Per day')\n",
    "plt.xticks(rotation=60)\n",
    "ax.bar_label(ax.containers[0],fontsize=8)\n",
    "plt.show()"
   ]
  },
  {
   "cell_type": "markdown",
   "id": "9d103002",
   "metadata": {},
   "source": [
    "## Peak Hours of the Day with respect to Customer Orders"
   ]
  },
  {
   "cell_type": "code",
   "execution_count": 9,
   "id": "5c3e2f90",
   "metadata": {},
   "outputs": [
    {
     "data": {
      "image/png": "[encoded data removed]",
      "text/plain": [
       "<Figure size 640x480 with 1 Axes>"
      ]
     },
     "metadata": {},
     "output_type": "display_data"
    },
    {
     "data": {
      "text/html": [
       "<div>\n",
       "<style scoped>\n",
       "    .dataframe tbody tr th:only-of-type {\n",
       "        vertical-align: middle;\n",
       "    }\n",
       "\n",
       "    .dataframe tbody tr th {\n",
       "        vertical-align: top;\n",
       "    }\n",
       "\n",
       "    .dataframe thead th {\n",
       "        text-align: right;\n",
       "    }\n",
       "</style>\n",
       "<table border=\"1\" class=\"dataframe\">\n",
       "  <thead>\n",
       "    <tr style=\"text-align: right;\">\n",
       "      <th></th>\n",
       "      <th>Time</th>\n",
       "      <th>Orders</th>\n",
       "    </tr>\n",
       "  </thead>\n",
       "  <tbody>\n",
       "    <tr>\n",
       "      <th>0</th>\n",
       "      <td>12 PM</td>\n",
       "      <td>647</td>\n",
       "    </tr>\n",
       "    <tr>\n",
       "      <th>1</th>\n",
       "      <td>17 PM</td>\n",
       "      <td>623</td>\n",
       "    </tr>\n",
       "    <tr>\n",
       "      <th>2</th>\n",
       "      <td>18 PM</td>\n",
       "      <td>596</td>\n",
       "    </tr>\n",
       "    <tr>\n",
       "      <th>3</th>\n",
       "      <td>13 PM</td>\n",
       "      <td>595</td>\n",
       "    </tr>\n",
       "    <tr>\n",
       "      <th>4</th>\n",
       "      <td>19 PM</td>\n",
       "      <td>498</td>\n",
       "    </tr>\n",
       "    <tr>\n",
       "      <th>5</th>\n",
       "      <td>16 PM</td>\n",
       "      <td>480</td>\n",
       "    </tr>\n",
       "    <tr>\n",
       "      <th>6</th>\n",
       "      <td>14 PM</td>\n",
       "      <td>426</td>\n",
       "    </tr>\n",
       "    <tr>\n",
       "      <th>7</th>\n",
       "      <td>20 PM</td>\n",
       "      <td>413</td>\n",
       "    </tr>\n",
       "    <tr>\n",
       "      <th>8</th>\n",
       "      <td>15 PM</td>\n",
       "      <td>357</td>\n",
       "    </tr>\n",
       "    <tr>\n",
       "      <th>9</th>\n",
       "      <td>21 PM</td>\n",
       "      <td>289</td>\n",
       "    </tr>\n",
       "  </tbody>\n",
       "</table>\n",
       "</div>"
      ],
      "text/plain": [
       "    Time  Orders\n",
       "0  12 PM     647\n",
       "1  17 PM     623\n",
       "2  18 PM     596\n",
       "3  13 PM     595\n",
       "4  19 PM     498\n",
       "5  16 PM     480\n",
       "6  14 PM     426\n",
       "7  20 PM     413\n",
       "8  15 PM     357\n",
       "9  21 PM     289"
      ]
     },
     "execution_count": 9,
     "metadata": {},
     "output_type": "execute_result"
    }
   ],
   "source": [
    "query=\"\"\"select time_format(order_time, '%H %p') as time_of_day, count(distinct order_id) as orders from order_details\n",
    "group by time_of_day\n",
    "order by orders desc\n",
    "limit 10\"\"\"\n",
    "\n",
    "cur.execute(query)\n",
    "data=cur.fetchall()\n",
    "df=pd.DataFrame(data,columns=['Time','Orders'])\n",
    "ax=df.plot(kind='bar',x='Time',y='Orders',color='green')\n",
    "plt.xlabel('Time')\n",
    "plt.ylabel('Orders')\n",
    "plt.xticks(rotation=60)\n",
    "ax.bar_label(ax.containers[0])\n",
    "plt.show()\n",
    "df"
   ]
  },
  {
   "cell_type": "markdown",
   "id": "39bac7db",
   "metadata": {},
   "source": [
    "Hence, it is concluded that most of the orders are placed in lunch timings i.e. in between 12 PM to 1 PM noon and \n",
    "then then after closure of routine office hours i.e. in between 5 PM to 6 PM."
   ]
  },
  {
   "cell_type": "code",
   "execution_count": 10,
   "id": "36b5383c",
   "metadata": {},
   "outputs": [
    {
     "data": {
      "text/plain": [
       "(('12 PM', 647),\n",
       " ('17 PM', 623),\n",
       " ('18 PM', 596),\n",
       " ('13 PM', 595),\n",
       " ('19 PM', 498),\n",
       " ('16 PM', 480),\n",
       " ('14 PM', 426),\n",
       " ('20 PM', 413),\n",
       " ('15 PM', 357),\n",
       " ('21 PM', 289))"
      ]
     },
     "execution_count": 10,
     "metadata": {},
     "output_type": "execute_result"
    }
   ],
   "source": [
    "query=\"\"\"select time_format(order_time, '%H %p') as time_of_day, count(distinct order_id) as orders from order_details\n",
    "group by time_of_day\n",
    "order by orders desc\n",
    "limit 10\"\"\"\n",
    "\n",
    "cur.execute(query)\n",
    "data=cur.fetchall()\n",
    "data"
   ]
  },
  {
   "cell_type": "code",
   "execution_count": 11,
   "id": "52a6d9ad",
   "metadata": {},
   "outputs": [
    {
     "name": "stdout",
     "output_type": "stream",
     "text": [
      "   Orders             Items\n",
      "0     596           Edamame\n",
      "1     595         Hamburger\n",
      "2     566  Korean Beef Bowl\n",
      "3     559      Cheeseburger\n",
      "4     547      French Fries\n"
     ]
    },
    {
     "data": {
      "image/png": "[encoded data removed]",
      "text/plain": [
       "<Figure size 500x300 with 1 Axes>"
      ]
     },
     "metadata": {},
     "output_type": "display_data"
    }
   ],
   "source": [
    "query=\"\"\"select count(distinct o.order_id) as orders, m.item_name as Popular_items from order_details o join menu_items m\n",
    "on o.item_id=m.menu_item_id\n",
    "group by Popular_items\n",
    "order by orders desc\n",
    "limit 5\"\"\"\n",
    "\n",
    "cur.execute(query)\n",
    "data=cur.fetchall()\n",
    "ax,plt.figure(figsize=(5,3))\n",
    "df=pd.DataFrame(data,columns=['Orders','Items'])\n",
    "print(df)\n",
    "ax=sns.barplot(data=df,x='Orders',y='Items')\n",
    "plt.title('Top 5 Selling Items')\n",
    "plt.xticks(rotation=60)\n",
    "ax.bar_label(ax.containers[0],fontsize=9)\n",
    "plt.show()"
   ]
  },
  {
   "cell_type": "markdown",
   "id": "e2bb2302",
   "metadata": {},
   "source": [
    "Edamame, Hamburger and Korean Beef Bowl are contributing most in generating revenue."
   ]
  },
  {
   "cell_type": "markdown",
   "id": "ad4caa4b",
   "metadata": {},
   "source": [
    "## Top 5 Lowest Selling Items w.r.t Orders"
   ]
  },
  {
   "cell_type": "code",
   "execution_count": 12,
   "id": "85a3b8db",
   "metadata": {},
   "outputs": [
    {
     "name": "stdout",
     "output_type": "stream",
     "text": [
      "   Orders               Items\n",
      "0     123       Chicken Tacos\n",
      "1     201         Potstickers\n",
      "2     205      Cheese Lasagna\n",
      "3     211         Steak Tacos\n",
      "4     229  Cheese Quesadillas\n"
     ]
    },
    {
     "data": {
      "image/png": "[encoded data removed]",
      "text/plain": [
       "<Figure size 500x300 with 1 Axes>"
      ]
     },
     "metadata": {},
     "output_type": "display_data"
    }
   ],
   "source": [
    "query=\"\"\"select count(distinct o.order_id) as orders, m.item_name as Popular_items from order_details o join menu_items m\n",
    "on o.item_id=m.menu_item_id\n",
    "group by Popular_items\n",
    "order by orders \n",
    "limit 5\"\"\"\n",
    "\n",
    "cur.execute(query)\n",
    "data=cur.fetchall()\n",
    "ax,plt.figure(figsize=(5,3))\n",
    "df=pd.DataFrame(data,columns=['Orders','Items'])\n",
    "print(df)\n",
    "ax=sns.barplot(data=df,x='Orders',y='Items')\n",
    "plt.title('Top 5 Lowest Selling Items')\n",
    "plt.xticks(rotation=60)\n",
    "ax.bar_label(ax.containers[0],fontsize=9)\n",
    "plt.show()"
   ]
  },
  {
   "cell_type": "markdown",
   "id": "d0248679",
   "metadata": {},
   "source": [
    "## Top Most Selling Item"
   ]
  },
  {
   "cell_type": "code",
   "execution_count": 13,
   "id": "d94d1ef6",
   "metadata": {},
   "outputs": [
    {
     "data": {
      "text/plain": [
       "(596, 'Edamame', Decimal('5.00'))"
      ]
     },
     "execution_count": 13,
     "metadata": {},
     "output_type": "execute_result"
    }
   ],
   "source": [
    "query=\"\"\"select count(distinct o.order_id) as orders, m.item_name as Popular_items,round(avg(m.price),2) from order_details o join menu_items m\n",
    "on o.item_id=m.menu_item_id\n",
    "group by Popular_items\n",
    "order by orders desc\n",
    "limit 1\"\"\"\n",
    "\n",
    "cur.execute(query)\n",
    "data=cur.fetchall()\n",
    "data[0]"
   ]
  },
  {
   "cell_type": "markdown",
   "id": "7276791f",
   "metadata": {},
   "source": [
    "# Top 5 Highest Priced Items and their Orders"
   ]
  },
  {
   "cell_type": "code",
   "execution_count": 14,
   "id": "71275ec9",
   "metadata": {},
   "outputs": [
    {
     "data": {
      "text/html": [
       "<div>\n",
       "<style scoped>\n",
       "    .dataframe tbody tr th:only-of-type {\n",
       "        vertical-align: middle;\n",
       "    }\n",
       "\n",
       "    .dataframe tbody tr th {\n",
       "        vertical-align: top;\n",
       "    }\n",
       "\n",
       "    .dataframe thead th {\n",
       "        text-align: right;\n",
       "    }\n",
       "</style>\n",
       "<table border=\"1\" class=\"dataframe\">\n",
       "  <thead>\n",
       "    <tr style=\"text-align: right;\">\n",
       "      <th></th>\n",
       "      <th>Items</th>\n",
       "      <th>Price</th>\n",
       "      <th>Orders</th>\n",
       "    </tr>\n",
       "  </thead>\n",
       "  <tbody>\n",
       "    <tr>\n",
       "      <th>0</th>\n",
       "      <td>Shrimp Scampi</td>\n",
       "      <td>19.95</td>\n",
       "      <td>235</td>\n",
       "    </tr>\n",
       "    <tr>\n",
       "      <th>1</th>\n",
       "      <td>Pork Ramen</td>\n",
       "      <td>17.95</td>\n",
       "      <td>351</td>\n",
       "    </tr>\n",
       "    <tr>\n",
       "      <th>2</th>\n",
       "      <td>Meat Lasagna</td>\n",
       "      <td>17.95</td>\n",
       "      <td>266</td>\n",
       "    </tr>\n",
       "    <tr>\n",
       "      <th>3</th>\n",
       "      <td>Korean Beef Bowl</td>\n",
       "      <td>17.95</td>\n",
       "      <td>566</td>\n",
       "    </tr>\n",
       "    <tr>\n",
       "      <th>4</th>\n",
       "      <td>Chicken Parmesan</td>\n",
       "      <td>17.95</td>\n",
       "      <td>354</td>\n",
       "    </tr>\n",
       "  </tbody>\n",
       "</table>\n",
       "</div>"
      ],
      "text/plain": [
       "              Items  Price  Orders\n",
       "0     Shrimp Scampi  19.95     235\n",
       "1        Pork Ramen  17.95     351\n",
       "2      Meat Lasagna  17.95     266\n",
       "3  Korean Beef Bowl  17.95     566\n",
       "4  Chicken Parmesan  17.95     354"
      ]
     },
     "execution_count": 14,
     "metadata": {},
     "output_type": "execute_result"
    }
   ],
   "source": [
    "query=\"\"\"select m.item_name, max(m.price) as maximum_price,count(distinct o.order_id) as orders from order_details o join  \n",
    "menu_items m on o.item_id=m.menu_item_id\n",
    "group by item_name\n",
    "order by maximum_price desc\n",
    "limit 5\"\"\"\n",
    "\n",
    "cur.execute(query)\n",
    "data=cur.fetchall()\n",
    "\n",
    "df=pd.DataFrame(data,columns=['Items','Price','Orders'])\n",
    "df"
   ]
  },
  {
   "cell_type": "markdown",
   "id": "0d30a2e3",
   "metadata": {},
   "source": [
    "Korean Beef Bowl is one of the highest priced item still contributing remakable number of orders."
   ]
  },
  {
   "cell_type": "markdown",
   "id": "67ac8103",
   "metadata": {},
   "source": [
    "## Top 5 Lowest Priced Items and their Orders"
   ]
  },
  {
   "cell_type": "code",
   "execution_count": 15,
   "id": "de22da61",
   "metadata": {},
   "outputs": [
    {
     "data": {
      "text/html": [
       "<div>\n",
       "<style scoped>\n",
       "    .dataframe tbody tr th:only-of-type {\n",
       "        vertical-align: middle;\n",
       "    }\n",
       "\n",
       "    .dataframe tbody tr th {\n",
       "        vertical-align: top;\n",
       "    }\n",
       "\n",
       "    .dataframe thead th {\n",
       "        text-align: right;\n",
       "    }\n",
       "</style>\n",
       "<table border=\"1\" class=\"dataframe\">\n",
       "  <thead>\n",
       "    <tr style=\"text-align: right;\">\n",
       "      <th></th>\n",
       "      <th>Items</th>\n",
       "      <th>Price</th>\n",
       "      <th>Orders</th>\n",
       "    </tr>\n",
       "  </thead>\n",
       "  <tbody>\n",
       "    <tr>\n",
       "      <th>0</th>\n",
       "      <td>Edamame</td>\n",
       "      <td>5.00</td>\n",
       "      <td>596</td>\n",
       "    </tr>\n",
       "    <tr>\n",
       "      <th>1</th>\n",
       "      <td>French Fries</td>\n",
       "      <td>7.00</td>\n",
       "      <td>547</td>\n",
       "    </tr>\n",
       "    <tr>\n",
       "      <th>2</th>\n",
       "      <td>Mac &amp; Cheese</td>\n",
       "      <td>7.00</td>\n",
       "      <td>450</td>\n",
       "    </tr>\n",
       "    <tr>\n",
       "      <th>3</th>\n",
       "      <td>Chips &amp; Salsa</td>\n",
       "      <td>7.00</td>\n",
       "      <td>448</td>\n",
       "    </tr>\n",
       "    <tr>\n",
       "      <th>4</th>\n",
       "      <td>Hot Dog</td>\n",
       "      <td>9.00</td>\n",
       "      <td>256</td>\n",
       "    </tr>\n",
       "  </tbody>\n",
       "</table>\n",
       "</div>"
      ],
      "text/plain": [
       "           Items Price  Orders\n",
       "0        Edamame  5.00     596\n",
       "1   French Fries  7.00     547\n",
       "2   Mac & Cheese  7.00     450\n",
       "3  Chips & Salsa  7.00     448\n",
       "4        Hot Dog  9.00     256"
      ]
     },
     "execution_count": 15,
     "metadata": {},
     "output_type": "execute_result"
    }
   ],
   "source": [
    "query=\"\"\"select m.item_name, min(m.price) as minimum_price, count(distinct o.order_id) as orders from order_details o join  \n",
    "menu_items m on o.item_id=m.menu_item_id\n",
    "group by item_name\n",
    "order by minimum_price \n",
    "limit 5\"\"\"\n",
    "\n",
    "cur.execute(query)\n",
    "data=cur.fetchall()\n",
    "df=pd.DataFrame(data,columns=['Items','Price','Orders'])\n",
    "\n",
    "df"
   ]
  },
  {
   "cell_type": "markdown",
   "id": "8fc420fb",
   "metadata": {},
   "source": [
    "Edamame, French Fries, Chips and Salsa are the low priced items having considerable numbers of orders "
   ]
  },
  {
   "cell_type": "markdown",
   "id": "24793ed7",
   "metadata": {},
   "source": [
    "## Correlation between Price and Orders"
   ]
  },
  {
   "cell_type": "code",
   "execution_count": 16,
   "id": "e3c37473",
   "metadata": {},
   "outputs": [
    {
     "data": {
      "image/png": "[encoded data removed]",
      "text/plain": [
       "<Figure size 640x480 with 2 Axes>"
      ]
     },
     "metadata": {},
     "output_type": "display_data"
    },
    {
     "data": {
      "text/html": [
       "<div>\n",
       "<style scoped>\n",
       "    .dataframe tbody tr th:only-of-type {\n",
       "        vertical-align: middle;\n",
       "    }\n",
       "\n",
       "    .dataframe tbody tr th {\n",
       "        vertical-align: top;\n",
       "    }\n",
       "\n",
       "    .dataframe thead th {\n",
       "        text-align: right;\n",
       "    }\n",
       "</style>\n",
       "<table border=\"1\" class=\"dataframe\">\n",
       "  <thead>\n",
       "    <tr style=\"text-align: right;\">\n",
       "      <th></th>\n",
       "      <th>Items</th>\n",
       "      <th>Orders</th>\n",
       "      <th>Price</th>\n",
       "    </tr>\n",
       "  </thead>\n",
       "  <tbody>\n",
       "    <tr>\n",
       "      <th>0</th>\n",
       "      <td>Edamame</td>\n",
       "      <td>596</td>\n",
       "      <td>5.00</td>\n",
       "    </tr>\n",
       "    <tr>\n",
       "      <th>1</th>\n",
       "      <td>Hamburger</td>\n",
       "      <td>595</td>\n",
       "      <td>12.95</td>\n",
       "    </tr>\n",
       "    <tr>\n",
       "      <th>2</th>\n",
       "      <td>Korean Beef Bowl</td>\n",
       "      <td>566</td>\n",
       "      <td>17.95</td>\n",
       "    </tr>\n",
       "    <tr>\n",
       "      <th>3</th>\n",
       "      <td>Cheeseburger</td>\n",
       "      <td>559</td>\n",
       "      <td>13.95</td>\n",
       "    </tr>\n",
       "    <tr>\n",
       "      <th>4</th>\n",
       "      <td>French Fries</td>\n",
       "      <td>547</td>\n",
       "      <td>7.00</td>\n",
       "    </tr>\n",
       "    <tr>\n",
       "      <th>5</th>\n",
       "      <td>Tofu Pad Thai</td>\n",
       "      <td>542</td>\n",
       "      <td>14.50</td>\n",
       "    </tr>\n",
       "    <tr>\n",
       "      <th>6</th>\n",
       "      <td>Steak Torta</td>\n",
       "      <td>471</td>\n",
       "      <td>13.95</td>\n",
       "    </tr>\n",
       "    <tr>\n",
       "      <th>7</th>\n",
       "      <td>Spaghetti &amp; Meatballs</td>\n",
       "      <td>460</td>\n",
       "      <td>17.95</td>\n",
       "    </tr>\n",
       "    <tr>\n",
       "      <th>8</th>\n",
       "      <td>Orange Chicken</td>\n",
       "      <td>456</td>\n",
       "      <td>16.50</td>\n",
       "    </tr>\n",
       "    <tr>\n",
       "      <th>9</th>\n",
       "      <td>Mac &amp; Cheese</td>\n",
       "      <td>450</td>\n",
       "      <td>7.00</td>\n",
       "    </tr>\n",
       "    <tr>\n",
       "      <th>10</th>\n",
       "      <td>Chips &amp; Salsa</td>\n",
       "      <td>448</td>\n",
       "      <td>7.00</td>\n",
       "    </tr>\n",
       "    <tr>\n",
       "      <th>11</th>\n",
       "      <td>Chicken Burrito</td>\n",
       "      <td>441</td>\n",
       "      <td>12.95</td>\n",
       "    </tr>\n",
       "    <tr>\n",
       "      <th>12</th>\n",
       "      <td>Eggplant Parmesan</td>\n",
       "      <td>408</td>\n",
       "      <td>16.95</td>\n",
       "    </tr>\n",
       "    <tr>\n",
       "      <th>13</th>\n",
       "      <td>Chicken Torta</td>\n",
       "      <td>369</td>\n",
       "      <td>11.95</td>\n",
       "    </tr>\n",
       "    <tr>\n",
       "      <th>14</th>\n",
       "      <td>Spaghetti</td>\n",
       "      <td>367</td>\n",
       "      <td>14.50</td>\n",
       "    </tr>\n",
       "    <tr>\n",
       "      <th>15</th>\n",
       "      <td>Mushroom Ravioli</td>\n",
       "      <td>356</td>\n",
       "      <td>15.50</td>\n",
       "    </tr>\n",
       "    <tr>\n",
       "      <th>16</th>\n",
       "      <td>Chicken Parmesan</td>\n",
       "      <td>354</td>\n",
       "      <td>17.95</td>\n",
       "    </tr>\n",
       "    <tr>\n",
       "      <th>17</th>\n",
       "      <td>Pork Ramen</td>\n",
       "      <td>351</td>\n",
       "      <td>17.95</td>\n",
       "    </tr>\n",
       "    <tr>\n",
       "      <th>18</th>\n",
       "      <td>Steak Burrito</td>\n",
       "      <td>349</td>\n",
       "      <td>14.95</td>\n",
       "    </tr>\n",
       "    <tr>\n",
       "      <th>19</th>\n",
       "      <td>California Roll</td>\n",
       "      <td>348</td>\n",
       "      <td>11.95</td>\n",
       "    </tr>\n",
       "    <tr>\n",
       "      <th>20</th>\n",
       "      <td>Salmon Roll</td>\n",
       "      <td>319</td>\n",
       "      <td>14.95</td>\n",
       "    </tr>\n",
       "    <tr>\n",
       "      <th>21</th>\n",
       "      <td>Meat Lasagna</td>\n",
       "      <td>266</td>\n",
       "      <td>17.95</td>\n",
       "    </tr>\n",
       "    <tr>\n",
       "      <th>22</th>\n",
       "      <td>Hot Dog</td>\n",
       "      <td>256</td>\n",
       "      <td>9.00</td>\n",
       "    </tr>\n",
       "    <tr>\n",
       "      <th>23</th>\n",
       "      <td>Fettuccine Alfredo</td>\n",
       "      <td>246</td>\n",
       "      <td>14.50</td>\n",
       "    </tr>\n",
       "    <tr>\n",
       "      <th>24</th>\n",
       "      <td>Shrimp Scampi</td>\n",
       "      <td>235</td>\n",
       "      <td>19.95</td>\n",
       "    </tr>\n",
       "    <tr>\n",
       "      <th>25</th>\n",
       "      <td>Veggie Burger</td>\n",
       "      <td>235</td>\n",
       "      <td>10.50</td>\n",
       "    </tr>\n",
       "    <tr>\n",
       "      <th>26</th>\n",
       "      <td>Chips &amp; Guacamole</td>\n",
       "      <td>231</td>\n",
       "      <td>9.00</td>\n",
       "    </tr>\n",
       "    <tr>\n",
       "      <th>27</th>\n",
       "      <td>Cheese Quesadillas</td>\n",
       "      <td>229</td>\n",
       "      <td>10.50</td>\n",
       "    </tr>\n",
       "    <tr>\n",
       "      <th>28</th>\n",
       "      <td>Steak Tacos</td>\n",
       "      <td>211</td>\n",
       "      <td>13.95</td>\n",
       "    </tr>\n",
       "    <tr>\n",
       "      <th>29</th>\n",
       "      <td>Cheese Lasagna</td>\n",
       "      <td>205</td>\n",
       "      <td>15.50</td>\n",
       "    </tr>\n",
       "    <tr>\n",
       "      <th>30</th>\n",
       "      <td>Potstickers</td>\n",
       "      <td>201</td>\n",
       "      <td>9.00</td>\n",
       "    </tr>\n",
       "    <tr>\n",
       "      <th>31</th>\n",
       "      <td>Chicken Tacos</td>\n",
       "      <td>123</td>\n",
       "      <td>11.95</td>\n",
       "    </tr>\n",
       "  </tbody>\n",
       "</table>\n",
       "</div>"
      ],
      "text/plain": [
       "                    Items  Orders  Price\n",
       "0                 Edamame     596   5.00\n",
       "1               Hamburger     595  12.95\n",
       "2        Korean Beef Bowl     566  17.95\n",
       "3            Cheeseburger     559  13.95\n",
       "4            French Fries     547   7.00\n",
       "5           Tofu Pad Thai     542  14.50\n",
       "6             Steak Torta     471  13.95\n",
       "7   Spaghetti & Meatballs     460  17.95\n",
       "8          Orange Chicken     456  16.50\n",
       "9            Mac & Cheese     450   7.00\n",
       "10          Chips & Salsa     448   7.00\n",
       "11        Chicken Burrito     441  12.95\n",
       "12      Eggplant Parmesan     408  16.95\n",
       "13          Chicken Torta     369  11.95\n",
       "14              Spaghetti     367  14.50\n",
       "15       Mushroom Ravioli     356  15.50\n",
       "16       Chicken Parmesan     354  17.95\n",
       "17             Pork Ramen     351  17.95\n",
       "18          Steak Burrito     349  14.95\n",
       "19        California Roll     348  11.95\n",
       "20            Salmon Roll     319  14.95\n",
       "21           Meat Lasagna     266  17.95\n",
       "22                Hot Dog     256   9.00\n",
       "23     Fettuccine Alfredo     246  14.50\n",
       "24          Shrimp Scampi     235  19.95\n",
       "25          Veggie Burger     235  10.50\n",
       "26      Chips & Guacamole     231   9.00\n",
       "27     Cheese Quesadillas     229  10.50\n",
       "28            Steak Tacos     211  13.95\n",
       "29         Cheese Lasagna     205  15.50\n",
       "30            Potstickers     201   9.00\n",
       "31          Chicken Tacos     123  11.95"
      ]
     },
     "execution_count": 16,
     "metadata": {},
     "output_type": "execute_result"
    }
   ],
   "source": [
    "query=\"\"\"select m.item_name as items,count(distinct o.order_id) as orders, round(avg(m.price),2) as price\n",
    "from order_details o join menu_items m on o.item_id=m.menu_item_id\n",
    "group by m.item_name\n",
    "order by orders desc\"\"\"\n",
    "\n",
    "cur.execute(query)\n",
    "data=cur.fetchall()\n",
    "df=pd.DataFrame(data,columns=['Items','Orders','Price'])\n",
    "df\n",
    "corr_matr=df[['Price','Orders']].corr()\n",
    "sns.heatmap(corr_matr,annot=True,cmap='viridis')\n",
    "plt.show()\n",
    "df"
   ]
  },
  {
   "cell_type": "markdown",
   "id": "c60417ae",
   "metadata": {},
   "source": [
    "There is no correlation between the prices of items and their orders as the value of correlation is neither closer to positive 1 nor to negative 1. \n",
    "There are items with highest prices and significant amount of orders and there are items with low prices but still less amount of orders."
   ]
  }
 ],
 "metadata": {
  "kernelspec": {
   "display_name": "Python 3 (ipykernel)",
   "language": "python",
   "name": "python3"
  },
  "language_info": {
   "codemirror_mode": {
    "name": "ipython",
    "version": 3
   },
   "file_extension": ".py",
   "mimetype": "text/x-python",
   "name": "python",
   "nbconvert_exporter": "python",
   "pygments_lexer": "ipython3",
   "version": "3.11.5"
  }
 },
 "nbformat": 4,
 "nbformat_minor": 5
}
